{
 "cells": [
  {
   "cell_type": "code",
   "execution_count": 83,
   "metadata": {},
   "outputs": [],
   "source": [
    "from selenium import webdriver\n",
    "from selenium.webdriver.common.keys import Keys\n",
    "from bs4 import BeautifulSoup\n",
    "from bs4.dammit import EncodingDetector\n",
    "from selenium.webdriver.common.action_chains import ActionChains\n",
    "from html5lib import *\n",
    "import os\n",
    "import random as rd\n",
    "import time"
   ]
  },
  {
   "cell_type": "code",
   "execution_count": 84,
   "metadata": {},
   "outputs": [],
   "source": [
    "def conectarConSitio(url=\"https://www.academico.espol.edu.ec/\"):\n",
    "    driver = webdriver.Chrome(executable_path=r\"chromedriver.exe\")\n",
    "    driver.get(url)\n",
    "    return driver"
   ]
  },
  {
   "cell_type": "code",
   "execution_count": 85,
   "metadata": {},
   "outputs": [],
   "source": [
    "def cambiarDePestana(url):\n",
    "    driver.get(url)"
   ]
  },
  {
   "cell_type": "code",
   "execution_count": 86,
   "metadata": {},
   "outputs": [],
   "source": [
    "def llenarConsultaAnioyBuscar():\n",
    "    idinputAnio = \"ctl00_contenido_txtAnio\"\n",
    "    idinputTermino = \"ctl00_contenido_listab_1\"\n",
    "    idbotonConsultar = \"ctl00_contenido_btnConsultar\"\n",
    "    \n",
    "    driver.find_element_by_id(idinputAnio).send_keys(\"2020\")\n",
    "    inputTermino = driver.find_element_by_id(idinputTermino)\n",
    "    botonConsultar = driver.find_element_by_id(idbotonConsultar)\n",
    "\n",
    "    actions = ActionChains(driver)\n",
    "    actions.click(inputTermino)\n",
    "    actions.click(botonConsultar)\n",
    "    actions.perform()\n",
    "\n",
    "    "
   ]
  },
  {
   "cell_type": "code",
   "execution_count": 87,
   "metadata": {},
   "outputs": [],
   "source": [
    "def obtenerElementosBusquedaMateria():\n",
    "    #retorna el input de nombre materia y el boton de buscar(para hacer click())\n",
    "    idInputNombreMateria = \"ctl00_contenido_nombreMateria\"\n",
    "    nombreInputNombreMateria = \"ctl00$contenido$nombreMateria\"\n",
    "    idBotonBuscar = \"ctl00_contenido_Button2\"\n",
    "    \n",
    "    inputNombreMateria = driver.find_element_by_name(nombreInputNombreMateria)\n",
    "    botonBuscar = driver.find_element_by_id(idBotonBuscar)\n",
    "    return inputNombreMateria,botonBuscar"
   ]
  },
  {
   "cell_type": "code",
   "execution_count": 88,
   "metadata": {},
   "outputs": [],
   "source": [
    "def buscarMateria(nombreMateria, entradaTexto, boton ):\n",
    "    entradaTexto.clear()\n",
    "    entradaTexto.send_keys(nombreMateria)\n",
    "    actions = ActionChains(driver)\n",
    "    actions.click(boton)\n",
    "    actions.perform()"
   ]
  },
  {
   "cell_type": "code",
   "execution_count": 89,
   "metadata": {},
   "outputs": [],
   "source": [
    "def encontrarTablaResultados():\n",
    "    idTablaRespuestas = \"ctl00_contenido_tbHorarios\"\n",
    "    tablaRespuesta = driver.find_element_by_id(idTablaRespuestas)\n",
    "\n",
    "    filas = tablaRespuesta.find_elements_by_tag_name(\"tr\")\n",
    "    return filas"
   ]
  },
  {
   "cell_type": "code",
   "execution_count": 104,
   "metadata": {},
   "outputs": [],
   "source": [
    "def guardarHTMLEnTablaResultados():\n",
    "    filas = encontrarTablaResultados();\n",
    "    for i in range(1,len(filas)):\n",
    "        fila = filas[i]\n",
    "        etiquetasA = fila.find_elements_by_tag_name(\"a\")\n",
    "        nombreMateria = fila.find_elements_by_tag_name(\"td\")[1].text\n",
    "        print(nombreMateria)\n",
    "        crearDirectorio(nombreMateria)\n",
    "        for j in range(len(etiquetasA)):\n",
    "            etiquetaA = etiquetasA[j]\n",
    "            linkEtiqueta = etiquetaA.get_attribute('href')\n",
    "            paralelo = etiquetaA.text.replace(\"[\",\"\").replace(\"]\",\"\")\n",
    "            nombreArchivo = obtenerNombreCompleto(nombreMateria, paralelo)\n",
    "            \n",
    "            print(linkEtiqueta)\n",
    "            print(paralelo)\n",
    "            \n",
    "            driver.get(linkEtiqueta)\n",
    "            markup = driver.page_source\n",
    "            soup = BeautifulSoup(markup, \"html5lib\")\n",
    "            escribirArchivo(soup.prettify(), nombreArchivo)\n",
    "            #volver\n",
    "            cambiarDePestana(\"https://www.academico.espol.edu.ec/UI/Registros/horariosplanificados.aspx?opt=6\")\n",
    "            time.sleep(0.8+rd.random()*1)\n",
    "            #set anio y buscar\n",
    "            llenarConsultaAnioyBuscar()\n",
    "            time.sleep(0.8+rd.random()*1)\n",
    "            #set nombre materia y buscar\n",
    "            inputNombreMateria,botonBuscar = obtenerElementosBusquedaMateria()\n",
    "            buscarMateria(\"a\", inputNombreMateria, botonBuscar )\n",
    "             #reset valores(filas) por cada materia\n",
    "            filas = encontrarTablaResultados();\n",
    "            #reset valores por cada paralelo\n",
    "            fila = filas[i]\n",
    "            etiquetasA = fila.find_elements_by_tag_name(\"a\")\n",
    "            nombreMateria = fila.find_elements_by_tag_name(\"td\")[1].text\n",
    "       \n",
    "            \n",
    "            "
   ]
  },
  {
   "cell_type": "code",
   "execution_count": 91,
   "metadata": {},
   "outputs": [],
   "source": [
    "def escribirArchivo(document, nombre):\n",
    "    archivo = open(nombre,\"w\",encoding = \"utf-8\")\n",
    "    archivo.write(document)\n",
    "    archivo.close()"
   ]
  },
  {
   "cell_type": "code",
   "execution_count": 92,
   "metadata": {},
   "outputs": [],
   "source": [
    "def crearDirectorio(directoryName):\n",
    "    try:\n",
    "        os.mkdir(\"Materias/\"+directoryName)\n",
    "    except:\n",
    "        print(\"Ya existe un directorio con : {} ,como nombre\".format(directoryName))\n"
   ]
  },
  {
   "cell_type": "code",
   "execution_count": 93,
   "metadata": {},
   "outputs": [],
   "source": [
    "def obtenerNombreCompleto(directoryName, aName):\n",
    "    return \"Materias/\"+directoryName+\"/\"+directoryName+\"-\"+aName+\".html\""
   ]
  },
  {
   "cell_type": "code",
   "execution_count": 73,
   "metadata": {},
   "outputs": [],
   "source": [
    "#time.sleep(rd.random()*3)\n",
    "#conectar con espol\n",
    "driver = conectarConSitio()\n",
    "########################Iniciar S\n",
    "esion#####################"
   ]
  },
  {
   "cell_type": "code",
   "execution_count": 74,
   "metadata": {},
   "outputs": [],
   "source": [
    "#ir a horarios planificados\n",
    "cambiarDePestana(\"https://www.academico.espol.edu.ec/UI/Registros/horariosplanificados.aspx?opt=6\")"
   ]
  },
  {
   "cell_type": "code",
   "execution_count": 75,
   "metadata": {},
   "outputs": [],
   "source": [
    "#llenar formulario de solicitud de horario planificados\n",
    "llenarConsultaAnioyBuscar()"
   ]
  },
  {
   "cell_type": "code",
   "execution_count": 76,
   "metadata": {},
   "outputs": [],
   "source": [
    "inputNombreMateria,botonBuscar = obtenerElementosBusquedaMateria()\n",
    "buscarMateria(\"a\", inputNombreMateria, botonBuscar )"
   ]
  },
  {
   "cell_type": "code",
   "execution_count": 105,
   "metadata": {},
   "outputs": [
    {
     "name": "stdout",
     "output_type": "stream",
     "text": [
      "ACTUACIÓN\n",
      "Ya existe un directorio con : ACTUACIÓN ,como nombre\n",
      "https://www.academico.espol.edu.ec/UI/Registros/MateriaPlanificada.aspx?idMateria=7599&numeroParalelo=1&p=574&idCurso=144508\n",
      "1\n",
      "ACTUADORES MECATRÓNICOS\n",
      "Ya existe un directorio con : ACTUADORES MECATRÓNICOS ,como nombre\n",
      "https://www.academico.espol.edu.ec/UI/Registros/MateriaPlanificada.aspx?idMateria=6981&numeroParalelo=1&p=574&idCurso=143068\n",
      "1\n",
      "ACUICULTURA ORNAMENTAL\n",
      "Ya existe un directorio con : ACUICULTURA ORNAMENTAL ,como nombre\n",
      "https://www.academico.espol.edu.ec/UI/Registros/MateriaPlanificada.aspx?idMateria=7177&numeroParalelo=1&p=574&idCurso=142892\n",
      "1\n",
      "ADMINISTRACIÓN DE LA INNOVACIÓN\n",
      "Ya existe un directorio con : ADMINISTRACIÓN DE LA INNOVACIÓN ,como nombre\n",
      "https://www.academico.espol.edu.ec/UI/Registros/MateriaPlanificada.aspx?idMateria=7310&numeroParalelo=1&p=574&idCurso=139416\n",
      "1\n",
      "ADMINISTRACIÓN DE OPERACIONES\n",
      "Ya existe un directorio con : ADMINISTRACIÓN DE OPERACIONES ,como nombre\n",
      "https://www.academico.espol.edu.ec/UI/Registros/MateriaPlanificada.aspx?idMateria=7306&numeroParalelo=1&p=574&idCurso=141525\n",
      "1\n",
      "https://www.academico.espol.edu.ec/UI/Registros/MateriaPlanificada.aspx?idMateria=7306&numeroParalelo=2&p=574&idCurso=139396\n",
      "2\n"
     ]
    },
    {
     "ename": "NoSuchElementException",
     "evalue": "Message: no such element: Unable to locate element: {\"method\":\"css selector\",\"selector\":\"[name=\"ctl00$contenido$nombreMateria\"]\"}\n  (Session info: chrome=80.0.3987.132)\n",
     "output_type": "error",
     "traceback": [
      "\u001b[1;31m---------------------------------------------------------------------------\u001b[0m",
      "\u001b[1;31mNoSuchElementException\u001b[0m                    Traceback (most recent call last)",
      "\u001b[1;32m<ipython-input-105-2112ca2454aa>\u001b[0m in \u001b[0;36m<module>\u001b[1;34m\u001b[0m\n\u001b[1;32m----> 1\u001b[1;33m \u001b[0mguardarHTMLEnTablaResultados\u001b[0m\u001b[1;33m(\u001b[0m\u001b[1;33m)\u001b[0m\u001b[1;33m\u001b[0m\u001b[0m\n\u001b[0m",
      "\u001b[1;32m<ipython-input-104-52595803e428>\u001b[0m in \u001b[0;36mguardarHTMLEnTablaResultados\u001b[1;34m()\u001b[0m\n\u001b[0;32m     27\u001b[0m             \u001b[0mtime\u001b[0m\u001b[1;33m.\u001b[0m\u001b[0msleep\u001b[0m\u001b[1;33m(\u001b[0m\u001b[1;36m0.8\u001b[0m\u001b[1;33m+\u001b[0m\u001b[0mrd\u001b[0m\u001b[1;33m.\u001b[0m\u001b[0mrandom\u001b[0m\u001b[1;33m(\u001b[0m\u001b[1;33m)\u001b[0m\u001b[1;33m*\u001b[0m\u001b[1;36m1\u001b[0m\u001b[1;33m)\u001b[0m\u001b[1;33m\u001b[0m\u001b[0m\n\u001b[0;32m     28\u001b[0m             \u001b[1;31m#set nombre materia y buscar\u001b[0m\u001b[1;33m\u001b[0m\u001b[1;33m\u001b[0m\u001b[0m\n\u001b[1;32m---> 29\u001b[1;33m             \u001b[0minputNombreMateria\u001b[0m\u001b[1;33m,\u001b[0m\u001b[0mbotonBuscar\u001b[0m \u001b[1;33m=\u001b[0m \u001b[0mobtenerElementosBusquedaMateria\u001b[0m\u001b[1;33m(\u001b[0m\u001b[1;33m)\u001b[0m\u001b[1;33m\u001b[0m\u001b[0m\n\u001b[0m\u001b[0;32m     30\u001b[0m             \u001b[0mbuscarMateria\u001b[0m\u001b[1;33m(\u001b[0m\u001b[1;34m\"a\"\u001b[0m\u001b[1;33m,\u001b[0m \u001b[0minputNombreMateria\u001b[0m\u001b[1;33m,\u001b[0m \u001b[0mbotonBuscar\u001b[0m \u001b[1;33m)\u001b[0m\u001b[1;33m\u001b[0m\u001b[0m\n\u001b[0;32m     31\u001b[0m              \u001b[1;31m#reset valores(filas) por cada materia\u001b[0m\u001b[1;33m\u001b[0m\u001b[1;33m\u001b[0m\u001b[0m\n",
      "\u001b[1;32m<ipython-input-87-46aea3006b1b>\u001b[0m in \u001b[0;36mobtenerElementosBusquedaMateria\u001b[1;34m()\u001b[0m\n\u001b[0;32m      5\u001b[0m     \u001b[0midBotonBuscar\u001b[0m \u001b[1;33m=\u001b[0m \u001b[1;34m\"ctl00_contenido_Button2\"\u001b[0m\u001b[1;33m\u001b[0m\u001b[0m\n\u001b[0;32m      6\u001b[0m \u001b[1;33m\u001b[0m\u001b[0m\n\u001b[1;32m----> 7\u001b[1;33m     \u001b[0minputNombreMateria\u001b[0m \u001b[1;33m=\u001b[0m \u001b[0mdriver\u001b[0m\u001b[1;33m.\u001b[0m\u001b[0mfind_element_by_name\u001b[0m\u001b[1;33m(\u001b[0m\u001b[0mnombreInputNombreMateria\u001b[0m\u001b[1;33m)\u001b[0m\u001b[1;33m\u001b[0m\u001b[0m\n\u001b[0m\u001b[0;32m      8\u001b[0m     \u001b[0mbotonBuscar\u001b[0m \u001b[1;33m=\u001b[0m \u001b[0mdriver\u001b[0m\u001b[1;33m.\u001b[0m\u001b[0mfind_element_by_id\u001b[0m\u001b[1;33m(\u001b[0m\u001b[0midBotonBuscar\u001b[0m\u001b[1;33m)\u001b[0m\u001b[1;33m\u001b[0m\u001b[0m\n\u001b[0;32m      9\u001b[0m     \u001b[1;32mreturn\u001b[0m \u001b[0minputNombreMateria\u001b[0m\u001b[1;33m,\u001b[0m\u001b[0mbotonBuscar\u001b[0m\u001b[1;33m\u001b[0m\u001b[0m\n",
      "\u001b[1;32mc:\\program files (x86)\\python36-32\\lib\\site-packages\\selenium\\webdriver\\remote\\webdriver.py\u001b[0m in \u001b[0;36mfind_element_by_name\u001b[1;34m(self, name)\u001b[0m\n\u001b[0;32m    494\u001b[0m             \u001b[0melement\u001b[0m \u001b[1;33m=\u001b[0m \u001b[0mdriver\u001b[0m\u001b[1;33m.\u001b[0m\u001b[0mfind_element_by_name\u001b[0m\u001b[1;33m(\u001b[0m\u001b[1;34m'foo'\u001b[0m\u001b[1;33m)\u001b[0m\u001b[1;33m\u001b[0m\u001b[0m\n\u001b[0;32m    495\u001b[0m         \"\"\"\n\u001b[1;32m--> 496\u001b[1;33m         \u001b[1;32mreturn\u001b[0m \u001b[0mself\u001b[0m\u001b[1;33m.\u001b[0m\u001b[0mfind_element\u001b[0m\u001b[1;33m(\u001b[0m\u001b[0mby\u001b[0m\u001b[1;33m=\u001b[0m\u001b[0mBy\u001b[0m\u001b[1;33m.\u001b[0m\u001b[0mNAME\u001b[0m\u001b[1;33m,\u001b[0m \u001b[0mvalue\u001b[0m\u001b[1;33m=\u001b[0m\u001b[0mname\u001b[0m\u001b[1;33m)\u001b[0m\u001b[1;33m\u001b[0m\u001b[0m\n\u001b[0m\u001b[0;32m    497\u001b[0m \u001b[1;33m\u001b[0m\u001b[0m\n\u001b[0;32m    498\u001b[0m     \u001b[1;32mdef\u001b[0m \u001b[0mfind_elements_by_name\u001b[0m\u001b[1;33m(\u001b[0m\u001b[0mself\u001b[0m\u001b[1;33m,\u001b[0m \u001b[0mname\u001b[0m\u001b[1;33m)\u001b[0m\u001b[1;33m:\u001b[0m\u001b[1;33m\u001b[0m\u001b[0m\n",
      "\u001b[1;32mc:\\program files (x86)\\python36-32\\lib\\site-packages\\selenium\\webdriver\\remote\\webdriver.py\u001b[0m in \u001b[0;36mfind_element\u001b[1;34m(self, by, value)\u001b[0m\n\u001b[0;32m    976\u001b[0m         return self.execute(Command.FIND_ELEMENT, {\n\u001b[0;32m    977\u001b[0m             \u001b[1;34m'using'\u001b[0m\u001b[1;33m:\u001b[0m \u001b[0mby\u001b[0m\u001b[1;33m,\u001b[0m\u001b[1;33m\u001b[0m\u001b[0m\n\u001b[1;32m--> 978\u001b[1;33m             'value': value})['value']\n\u001b[0m\u001b[0;32m    979\u001b[0m \u001b[1;33m\u001b[0m\u001b[0m\n\u001b[0;32m    980\u001b[0m     \u001b[1;32mdef\u001b[0m \u001b[0mfind_elements\u001b[0m\u001b[1;33m(\u001b[0m\u001b[0mself\u001b[0m\u001b[1;33m,\u001b[0m \u001b[0mby\u001b[0m\u001b[1;33m=\u001b[0m\u001b[0mBy\u001b[0m\u001b[1;33m.\u001b[0m\u001b[0mID\u001b[0m\u001b[1;33m,\u001b[0m \u001b[0mvalue\u001b[0m\u001b[1;33m=\u001b[0m\u001b[1;32mNone\u001b[0m\u001b[1;33m)\u001b[0m\u001b[1;33m:\u001b[0m\u001b[1;33m\u001b[0m\u001b[0m\n",
      "\u001b[1;32mc:\\program files (x86)\\python36-32\\lib\\site-packages\\selenium\\webdriver\\remote\\webdriver.py\u001b[0m in \u001b[0;36mexecute\u001b[1;34m(self, driver_command, params)\u001b[0m\n\u001b[0;32m    319\u001b[0m         \u001b[0mresponse\u001b[0m \u001b[1;33m=\u001b[0m \u001b[0mself\u001b[0m\u001b[1;33m.\u001b[0m\u001b[0mcommand_executor\u001b[0m\u001b[1;33m.\u001b[0m\u001b[0mexecute\u001b[0m\u001b[1;33m(\u001b[0m\u001b[0mdriver_command\u001b[0m\u001b[1;33m,\u001b[0m \u001b[0mparams\u001b[0m\u001b[1;33m)\u001b[0m\u001b[1;33m\u001b[0m\u001b[0m\n\u001b[0;32m    320\u001b[0m         \u001b[1;32mif\u001b[0m \u001b[0mresponse\u001b[0m\u001b[1;33m:\u001b[0m\u001b[1;33m\u001b[0m\u001b[0m\n\u001b[1;32m--> 321\u001b[1;33m             \u001b[0mself\u001b[0m\u001b[1;33m.\u001b[0m\u001b[0merror_handler\u001b[0m\u001b[1;33m.\u001b[0m\u001b[0mcheck_response\u001b[0m\u001b[1;33m(\u001b[0m\u001b[0mresponse\u001b[0m\u001b[1;33m)\u001b[0m\u001b[1;33m\u001b[0m\u001b[0m\n\u001b[0m\u001b[0;32m    322\u001b[0m             response['value'] = self._unwrap_value(\n\u001b[0;32m    323\u001b[0m                 response.get('value', None))\n",
      "\u001b[1;32mc:\\program files (x86)\\python36-32\\lib\\site-packages\\selenium\\webdriver\\remote\\errorhandler.py\u001b[0m in \u001b[0;36mcheck_response\u001b[1;34m(self, response)\u001b[0m\n\u001b[0;32m    240\u001b[0m                 \u001b[0malert_text\u001b[0m \u001b[1;33m=\u001b[0m \u001b[0mvalue\u001b[0m\u001b[1;33m[\u001b[0m\u001b[1;34m'alert'\u001b[0m\u001b[1;33m]\u001b[0m\u001b[1;33m.\u001b[0m\u001b[0mget\u001b[0m\u001b[1;33m(\u001b[0m\u001b[1;34m'text'\u001b[0m\u001b[1;33m)\u001b[0m\u001b[1;33m\u001b[0m\u001b[0m\n\u001b[0;32m    241\u001b[0m             \u001b[1;32mraise\u001b[0m \u001b[0mexception_class\u001b[0m\u001b[1;33m(\u001b[0m\u001b[0mmessage\u001b[0m\u001b[1;33m,\u001b[0m \u001b[0mscreen\u001b[0m\u001b[1;33m,\u001b[0m \u001b[0mstacktrace\u001b[0m\u001b[1;33m,\u001b[0m \u001b[0malert_text\u001b[0m\u001b[1;33m)\u001b[0m\u001b[1;33m\u001b[0m\u001b[0m\n\u001b[1;32m--> 242\u001b[1;33m         \u001b[1;32mraise\u001b[0m \u001b[0mexception_class\u001b[0m\u001b[1;33m(\u001b[0m\u001b[0mmessage\u001b[0m\u001b[1;33m,\u001b[0m \u001b[0mscreen\u001b[0m\u001b[1;33m,\u001b[0m \u001b[0mstacktrace\u001b[0m\u001b[1;33m)\u001b[0m\u001b[1;33m\u001b[0m\u001b[0m\n\u001b[0m\u001b[0;32m    243\u001b[0m \u001b[1;33m\u001b[0m\u001b[0m\n\u001b[0;32m    244\u001b[0m     \u001b[1;32mdef\u001b[0m \u001b[0m_value_or_default\u001b[0m\u001b[1;33m(\u001b[0m\u001b[0mself\u001b[0m\u001b[1;33m,\u001b[0m \u001b[0mobj\u001b[0m\u001b[1;33m,\u001b[0m \u001b[0mkey\u001b[0m\u001b[1;33m,\u001b[0m \u001b[0mdefault\u001b[0m\u001b[1;33m)\u001b[0m\u001b[1;33m:\u001b[0m\u001b[1;33m\u001b[0m\u001b[0m\n",
      "\u001b[1;31mNoSuchElementException\u001b[0m: Message: no such element: Unable to locate element: {\"method\":\"css selector\",\"selector\":\"[name=\"ctl00$contenido$nombreMateria\"]\"}\n  (Session info: chrome=80.0.3987.132)\n"
     ]
    }
   ],
   "source": [
    "guardarHTMLEnTablaResultados()"
   ]
  },
  {
   "cell_type": "code",
   "execution_count": null,
   "metadata": {},
   "outputs": [],
   "source": [
    "driver.close()"
   ]
  },
  {
   "cell_type": "markdown",
   "metadata": {},
   "source": []
  },
  {
   "cell_type": "code",
   "execution_count": null,
   "metadata": {},
   "outputs": [],
   "source": []
  }
 ],
 "metadata": {
  "kernelspec": {
   "display_name": "Python 3",
   "language": "python",
   "name": "python3"
  },
  "language_info": {
   "codemirror_mode": {
    "name": "ipython",
    "version": 3
   },
   "file_extension": ".py",
   "mimetype": "text/x-python",
   "name": "python",
   "nbconvert_exporter": "python",
   "pygments_lexer": "ipython3",
   "version": "3.6.4"
  }
 },
 "nbformat": 4,
 "nbformat_minor": 2
}
