{
 "cells": [
  {
   "cell_type": "code",
   "execution_count": 100,
   "metadata": {},
   "outputs": [],
   "source": [
    "from selenium import webdriver\n",
    "from selenium.webdriver.common.keys import Keys\n",
    "from bs4 import BeautifulSoup\n",
    "from bs4.dammit import EncodingDetector\n",
    "from selenium.webdriver.common.action_chains import ActionChains\n",
    "import os\n",
    "import random as rd\n",
    "import time"
   ]
  },
  {
   "cell_type": "code",
   "execution_count": 101,
   "metadata": {},
   "outputs": [],
   "source": [
    "def conectarConSitio(url=\"https://www.academico.espol.edu.ec/\"):\n",
    "    driver = webdriver.Chrome(executable_path=r\"chromedriver.exe\")\n",
    "    driver.get(url)\n",
    "    return driver"
   ]
  },
  {
   "cell_type": "code",
   "execution_count": 102,
   "metadata": {},
   "outputs": [],
   "source": [
    "def cambiarDePestana(url):\n",
    "    driver.get(url)"
   ]
  },
  {
   "cell_type": "code",
   "execution_count": 103,
   "metadata": {},
   "outputs": [],
   "source": [
    "def llenarConsultaAnioyBuscar():\n",
    "    idinputAnio = \"ctl00_contenido_txtAnio\"\n",
    "    idinputTermino = \"ctl00_contenido_listab_1\"\n",
    "    idbotonConsultar = \"ctl00_contenido_btnConsultar\"\n",
    "    \n",
    "    driver.find_element_by_id(idinputAnio).send_keys(\"2020\")\n",
    "    inputTermino = driver.find_element_by_id(idinputTermino)\n",
    "    botonConsultar = driver.find_element_by_id(idbotonConsultar)\n",
    "\n",
    "    actions = ActionChains(driver)\n",
    "    actions.click(inputTermino)\n",
    "    actions.click(botonConsultar)\n",
    "    actions.perform()\n",
    "\n",
    "    "
   ]
  },
  {
   "cell_type": "code",
   "execution_count": 104,
   "metadata": {},
   "outputs": [],
   "source": [
    "def obtenerElementosBusquedaMateria():\n",
    "    #retorna el input de nombre materia y el boton de buscar(para hacer click())\n",
    "    idInputNombreMateria = \"ctl00_contenido_nombreMateria\"\n",
    "    nombreInputNombreMateria = \"ctl00$contenido$nombreMateria\"\n",
    "    idBotonBuscar = \"ctl00_contenido_Button2\"\n",
    "    \n",
    "    inputNombreMateria = driver.find_element_by_name(nombreInputNombreMateria)\n",
    "    botonBuscar = driver.find_element_by_id(idBotonBuscar)\n",
    "    return inputNombreMateria,botonBuscar"
   ]
  },
  {
   "cell_type": "code",
   "execution_count": 105,
   "metadata": {},
   "outputs": [],
   "source": [
    "def buscarMateria(nombreMateria, entradaTexto, boton ):\n",
    "    entradaTexto.clear()\n",
    "    entradaTexto.send_keys(nombreMateria)\n",
    "    actions = ActionChains(driver)\n",
    "    actions.click(boton)\n",
    "    actions.perform()"
   ]
  },
  {
   "cell_type": "code",
   "execution_count": 106,
   "metadata": {},
   "outputs": [],
   "source": [
    "def encontrarTablaResultados():\n",
    "    idTablaRespuestas = \"ctl00_contenido_tbHorarios\"\n",
    "    tablaRespuesta = driver.find_element_by_id(idTablaRespuestas)\n",
    "\n",
    "    filas = tablaRespuesta.find_elements_by_tag_name(\"tr\")\n",
    "    return filas"
   ]
  },
  {
   "cell_type": "code",
   "execution_count": 206,
   "metadata": {},
   "outputs": [],
   "source": [
    "def guardarHTMLEnTablaResultados():\n",
    "    filas = encontrarTablaResultados();\n",
    "    for i in range(1,len(filas)):\n",
    "        fila = filas[i]\n",
    "        etiquetasA = fila.find_elements_by_tag_name(\"a\")\n",
    "        nombreMateria = fila.find_elements_by_tag_name(\"td\")[1].text\n",
    "        print(nombreMateria)\n",
    "        crearDirectorio(nombreMateria)\n",
    "        for j in range(len(etiquetasA)):\n",
    "            etiquetaA = etiquetasA[j]\n",
    "            linkEtiqueta = etiquetaA.get_attribute('href')\n",
    "            paralelo = etiquetaA.text.replace(\"[\",\"\").replace(\"]\",\"\")\n",
    "            nombreArchivo = obtenerNombreCompleto(nombreMateria, paralelo)\n",
    "            \n",
    "            print(linkEtiqueta)\n",
    "            print(paralelo)\n",
    "            \n",
    "            driver.get(linkEtiqueta)\n",
    "            markup = driver.page_source\n",
    "            escribirArchivo(markup, nombreArchivo)\n",
    "            #volver\n",
    "            time.sleep(6+rd.random()*1)\n",
    "            driver.back()\n",
    "            time.sleep(6+rd.random()*1)\n",
    "            #set nombre materia y buscar\n",
    "            \n",
    "            #inputNombreMateria,botonBuscar = obtenerElementosBusquedaMateria()\n",
    "            #buscarMateria(\"c\", inputNombreMateria, botonBuscar )\n",
    "            \n",
    "            #reset valores(filas) por cada materia\n",
    "            filas = encontrarTablaResultados();\n",
    "            #reset valores por cada paralelo\n",
    "            fila = filas[i]\n",
    "            etiquetasA = fila.find_elements_by_tag_name(\"a\")\n",
    "            nombreMateria = fila.find_elements_by_tag_name(\"td\")[1].text\n",
    "            time.sleep(2+rd.random()*1)\n",
    "       \n",
    "            \n",
    "            "
   ]
  },
  {
   "cell_type": "code",
   "execution_count": 108,
   "metadata": {},
   "outputs": [],
   "source": [
    "def escribirArchivo(document, nombre):\n",
    "    archivo = open(nombre,\"w\",encoding = \"utf-8\")\n",
    "    archivo.write(document)\n",
    "    archivo.close()"
   ]
  },
  {
   "cell_type": "code",
   "execution_count": 109,
   "metadata": {},
   "outputs": [],
   "source": [
    "def crearDirectorio(directoryName):\n",
    "    try:\n",
    "        os.mkdir(\"Materias/\"+directoryName)\n",
    "    except:\n",
    "        print(\"Ya existe un directorio con : {} ,como nombre\".format(directoryName))\n"
   ]
  },
  {
   "cell_type": "code",
   "execution_count": 110,
   "metadata": {},
   "outputs": [],
   "source": [
    "def obtenerNombreCompleto(directoryName, aName):\n",
    "    return \"Materias/\"+directoryName+\"/\"+directoryName+\"-\"+aName+\".html\""
   ]
  },
  {
   "cell_type": "code",
   "execution_count": 196,
   "metadata": {},
   "outputs": [],
   "source": [
    "#time.sleep(rd.random()*3)\n",
    "#conectar con espol\n",
    "driver = conectarConSitio()\n",
    "########################Iniciar Sesion#####################"
   ]
  },
  {
   "cell_type": "code",
   "execution_count": 197,
   "metadata": {},
   "outputs": [],
   "source": [
    "#ir a horarios planificados\n",
    "cambiarDePestana(\"https://www.academico.espol.edu.ec/UI/Registros/horariosplanificados.aspx?opt=6\")"
   ]
  },
  {
   "cell_type": "code",
   "execution_count": 198,
   "metadata": {},
   "outputs": [],
   "source": [
    "#llenar formulario de solicitud de horario planificados\n",
    "llenarConsultaAnioyBuscar()"
   ]
  },
  {
   "cell_type": "code",
   "execution_count": 199,
   "metadata": {},
   "outputs": [],
   "source": [
    "inputNombreMateria,botonBuscar = obtenerElementosBusquedaMateria()\n",
    "buscarMateria(\"c\", inputNombreMateria, botonBuscar )"
   ]
  },
  {
   "cell_type": "code",
   "execution_count": 207,
   "metadata": {},
   "outputs": [
    {
     "name": "stdout",
     "output_type": "stream",
     "text": [
      "CONSERVACIÓN Y MANEJO AMBIENTAL EN TURISMO\n",
      "Ya existe un directorio con : CONSERVACIÓN Y MANEJO AMBIENTAL EN TURISMO ,como nombre\n",
      "https://www.academico.espol.edu.ec/UI/Registros/MateriaPlanificada.aspx?idMateria=7321&numeroParalelo=1&p=574&idCurso=139247\n",
      "1\n",
      "CONSTRUCCIONES METÁLICAS DE BUQUES\n",
      "Ya existe un directorio con : CONSTRUCCIONES METÁLICAS DE BUQUES ,como nombre\n",
      "https://www.academico.espol.edu.ec/UI/Registros/MateriaPlanificada.aspx?idMateria=7241&numeroParalelo=1&p=574&idCurso=138246\n",
      "1\n",
      "CONTABILIDAD AVANZADA\n",
      "Ya existe un directorio con : CONTABILIDAD AVANZADA ,como nombre\n",
      "https://www.academico.espol.edu.ec/UI/Registros/MateriaPlanificada.aspx?idMateria=7322&numeroParalelo=1&p=574&idCurso=139223\n",
      "1\n",
      "https://www.academico.espol.edu.ec/UI/Registros/MateriaPlanificada.aspx?idMateria=7322&numeroParalelo=2&p=574&idCurso=139283\n",
      "2\n",
      "CONTABILIDAD DE COSTOS\n",
      "Ya existe un directorio con : CONTABILIDAD DE COSTOS ,como nombre\n",
      "https://www.academico.espol.edu.ec/UI/Registros/MateriaPlanificada.aspx?idMateria=7323&numeroParalelo=1&p=574&idCurso=139520\n",
      "1\n",
      "CONTABILIDAD FINANCIERA\n",
      "Ya existe un directorio con : CONTABILIDAD FINANCIERA ,como nombre\n",
      "https://www.academico.espol.edu.ec/UI/Registros/MateriaPlanificada.aspx?idMateria=7324&numeroParalelo=1&p=574&idCurso=141451\n",
      "1\n",
      "https://www.academico.espol.edu.ec/UI/Registros/MateriaPlanificada.aspx?idMateria=7324&numeroParalelo=2&p=574&idCurso=141460\n",
      "2\n",
      "https://www.academico.espol.edu.ec/UI/Registros/MateriaPlanificada.aspx?idMateria=7324&numeroParalelo=5&p=574&idCurso=139032\n",
      "5\n",
      "https://www.academico.espol.edu.ec/UI/Registros/MateriaPlanificada.aspx?idMateria=7324&numeroParalelo=6&p=574&idCurso=139778\n",
      "6\n",
      "CONTABILIDAD GUBERNAMENTAL\n",
      "Ya existe un directorio con : CONTABILIDAD GUBERNAMENTAL ,como nombre\n",
      "https://www.academico.espol.edu.ec/UI/Registros/MateriaPlanificada.aspx?idMateria=5918&numeroParalelo=1&p=574&idCurso=143754\n",
      "1\n",
      "CONTABILIDAD I\n",
      "Ya existe un directorio con : CONTABILIDAD I ,como nombre\n",
      "https://www.academico.espol.edu.ec/UI/Registros/MateriaPlanificada.aspx?idMateria=7325&numeroParalelo=1&p=574&idCurso=139431\n",
      "1\n",
      "https://www.academico.espol.edu.ec/UI/Registros/MateriaPlanificada.aspx?idMateria=7325&numeroParalelo=2&p=574&idCurso=139466\n",
      "2\n",
      "CONTABILIDAD II\n",
      "Ya existe un directorio con : CONTABILIDAD II ,como nombre\n",
      "https://www.academico.espol.edu.ec/UI/Registros/MateriaPlanificada.aspx?idMateria=7326&numeroParalelo=1&p=574&idCurso=139436\n",
      "1\n",
      "https://www.academico.espol.edu.ec/UI/Registros/MateriaPlanificada.aspx?idMateria=7326&numeroParalelo=2&p=574&idCurso=139471\n",
      "2\n",
      "CONTABILIDAD III\n",
      "Ya existe un directorio con : CONTABILIDAD III ,como nombre\n",
      "https://www.academico.espol.edu.ec/UI/Registros/MateriaPlanificada.aspx?idMateria=7327&numeroParalelo=1&p=574&idCurso=139269\n",
      "1\n",
      "https://www.academico.espol.edu.ec/UI/Registros/MateriaPlanificada.aspx?idMateria=7327&numeroParalelo=2&p=574&idCurso=139292\n",
      "2\n",
      "https://www.academico.espol.edu.ec/UI/Registros/MateriaPlanificada.aspx?idMateria=7327&numeroParalelo=3&p=574&idCurso=139427\n",
      "3\n",
      "CONTAMINACIÓN AMBIENTAL\n",
      "Ya existe un directorio con : CONTAMINACIÓN AMBIENTAL ,como nombre\n",
      "https://www.academico.espol.edu.ec/UI/Registros/MateriaPlanificada.aspx?idMateria=6917&numeroParalelo=1&p=574&idCurso=138550\n",
      "1\n",
      "CONTAMINACIÓN MARINA\n",
      "Ya existe un directorio con : CONTAMINACIÓN MARINA ,como nombre\n",
      "https://www.academico.espol.edu.ec/UI/Registros/MateriaPlanificada.aspx?idMateria=7244&numeroParalelo=1&p=574&idCurso=144596\n",
      "1\n",
      "CONTROL AVANZADO\n",
      "Ya existe un directorio con : CONTROL AVANZADO ,como nombre\n",
      "https://www.academico.espol.edu.ec/UI/Registros/MateriaPlanificada.aspx?idMateria=6819&numeroParalelo=1&p=574&idCurso=140841\n",
      "1\n",
      "CONTROL DE CALIDAD Y EVALUACIÓN SENSORIAL DE ALIMENTOS\n",
      "Ya existe un directorio con : CONTROL DE CALIDAD Y EVALUACIÓN SENSORIAL DE ALIMENTOS ,como nombre\n",
      "https://www.academico.espol.edu.ec/UI/Registros/MateriaPlanificada.aspx?idMateria=6988&numeroParalelo=1&p=574&idCurso=143187\n",
      "1\n",
      "CONTROL DE PROCESOS INDUSTRIALES\n",
      "Ya existe un directorio con : CONTROL DE PROCESOS INDUSTRIALES ,como nombre\n",
      "https://www.academico.espol.edu.ec/UI/Registros/MateriaPlanificada.aspx?idMateria=6820&numeroParalelo=1&p=574&idCurso=140910\n",
      "1\n",
      "CONTROL ESTADÍSTICO DE PROCESOS\n",
      "Ya existe un directorio con : CONTROL ESTADÍSTICO DE PROCESOS ,como nombre\n",
      "https://www.academico.espol.edu.ec/UI/Registros/MateriaPlanificada.aspx?idMateria=7361&numeroParalelo=1&p=574&idCurso=139712\n",
      "1\n",
      "CONTROL INTERNO\n",
      "Ya existe un directorio con : CONTROL INTERNO ,como nombre\n",
      "https://www.academico.espol.edu.ec/UI/Registros/MateriaPlanificada.aspx?idMateria=7328&numeroParalelo=1&p=574&idCurso=139246\n",
      "1\n",
      "CONTROLES ELÉCTRICOS INDUSTRIALES\n",
      "Ya existe un directorio con : CONTROLES ELÉCTRICOS INDUSTRIALES ,como nombre\n",
      "https://www.academico.espol.edu.ec/UI/Registros/MateriaPlanificada.aspx?idMateria=6821&numeroParalelo=1&p=574&idCurso=140467\n",
      "1\n",
      "COREANO I\n",
      "Ya existe un directorio con : COREANO I ,como nombre\n",
      "https://www.academico.espol.edu.ec/UI/Registros/MateriaPlanificada.aspx?idMateria=7577&numeroParalelo=1&p=574&idCurso=141863\n",
      "1\n",
      "https://www.academico.espol.edu.ec/UI/Registros/MateriaPlanificada.aspx?idMateria=7577&numeroParalelo=2&p=574&idCurso=141865\n",
      "2\n",
      "CRECIMIENTO Y DESARROLLO ECONÓMICO\n",
      "Ya existe un directorio con : CRECIMIENTO Y DESARROLLO ECONÓMICO ,como nombre\n",
      "https://www.academico.espol.edu.ec/UI/Registros/MateriaPlanificada.aspx?idMateria=7329&numeroParalelo=1&p=574&idCurso=141948\n",
      "1\n",
      "CULTIVO DE ESPECIES NO TRADICIONALES\n",
      "Ya existe un directorio con : CULTIVO DE ESPECIES NO TRADICIONALES ,como nombre\n",
      "https://www.academico.espol.edu.ec/UI/Registros/MateriaPlanificada.aspx?idMateria=7245&numeroParalelo=1&p=574&idCurso=142919\n",
      "1\n",
      "CULTIVO DE PLANCTON\n",
      "Ya existe un directorio con : CULTIVO DE PLANCTON ,como nombre\n",
      "https://www.academico.espol.edu.ec/UI/Registros/MateriaPlanificada.aspx?idMateria=7246&numeroParalelo=1&p=574&idCurso=142753\n",
      "1\n"
     ]
    }
   ],
   "source": [
    "guardarHTMLEnTablaResultados()"
   ]
  },
  {
   "cell_type": "code",
   "execution_count": null,
   "metadata": {},
   "outputs": [],
   "source": [
    "driver.close()"
   ]
  },
  {
   "cell_type": "markdown",
   "metadata": {},
   "source": []
  },
  {
   "cell_type": "code",
   "execution_count": 67,
   "metadata": {},
   "outputs": [],
   "source": [
    "driver = conectarConSitio(\"https://es.wikipedia.org/wiki/Batalla_del_Nilo\")"
   ]
  },
  {
   "cell_type": "code",
   "execution_count": 83,
   "metadata": {},
   "outputs": [],
   "source": [
    "#ActionChains(driver).key_down(Keys.CONTROL).send_keys('p').key_up(Keys.CONTROL).perform()\n",
    "#ActionChains(driver).send_keys(Keys.CONTROL, 's').perform()\n",
    "\n",
    "cuerpo = driver.find_element_by_css_selector('body')\n",
    "cuerpo.send_keys(Keys.CONTROL + 'a')\n",
    "cuerpo.send_keys(Keys.CONTROL + 'p')\n",
    "\n",
    "markup = driver.page_source\n",
    "#soup = BeautifulSoup(markup, \"html5lib\")\n",
    "crearDirectorio(\"cal\")\n",
    "escribirArchivo(markup, obtenerNombreCompleto(\"cal\", \"1\"))\n",
    "#driver.find_element(\"anything\",by=\"id\").send_keys(Keys.CONTROL + \"a\")\n",
    "#ActionChains(driver).key_down(Keys.CONTROL).send_keys('p').key_up(Keys.CONTROL).perform()"
   ]
  },
  {
   "cell_type": "code",
   "execution_count": 66,
   "metadata": {},
   "outputs": [],
   "source": [
    "driver.back()"
   ]
  },
  {
   "cell_type": "code",
   "execution_count": 37,
   "metadata": {},
   "outputs": [],
   "source": [
    "driver.close()"
   ]
  },
  {
   "cell_type": "code",
   "execution_count": null,
   "metadata": {},
   "outputs": [],
   "source": []
  }
 ],
 "metadata": {
  "kernelspec": {
   "display_name": "Python 3",
   "language": "python",
   "name": "python3"
  },
  "language_info": {
   "codemirror_mode": {
    "name": "ipython",
    "version": 3
   },
   "file_extension": ".py",
   "mimetype": "text/x-python",
   "name": "python",
   "nbconvert_exporter": "python",
   "pygments_lexer": "ipython3",
   "version": "3.6.4"
  }
 },
 "nbformat": 4,
 "nbformat_minor": 2
}
